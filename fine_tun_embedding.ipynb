{
  "nbformat": 4,
  "nbformat_minor": 0,
  "metadata": {
    "colab": {
      "provenance": [],
      "authorship_tag": "ABX9TyMULhLLFS5WDUhTy/ITCCpQ",
      "include_colab_link": true
    },
    "kernelspec": {
      "name": "python3",
      "display_name": "Python 3"
    },
    "language_info": {
      "name": "python"
    },
    "widgets": {
      "application/vnd.jupyter.widget-state+json": {
        "71957176d3ce4da494ab6993cc792442": {
          "model_module": "@jupyter-widgets/controls",
          "model_name": "HBoxModel",
          "model_module_version": "1.5.0",
          "state": {
            "_dom_classes": [],
            "_model_module": "@jupyter-widgets/controls",
            "_model_module_version": "1.5.0",
            "_model_name": "HBoxModel",
            "_view_count": null,
            "_view_module": "@jupyter-widgets/controls",
            "_view_module_version": "1.5.0",
            "_view_name": "HBoxView",
            "box_style": "",
            "children": [
              "IPY_MODEL_30c817c139f64591b4838d97067de2b7",
              "IPY_MODEL_854fea0baf9748feafd3a13aad022217",
              "IPY_MODEL_2775dd3aeb014823a265f718a3e1f464"
            ],
            "layout": "IPY_MODEL_27b7aca1e6314a05b36f30157e389fa2"
          }
        },
        "30c817c139f64591b4838d97067de2b7": {
          "model_module": "@jupyter-widgets/controls",
          "model_name": "HTMLModel",
          "model_module_version": "1.5.0",
          "state": {
            "_dom_classes": [],
            "_model_module": "@jupyter-widgets/controls",
            "_model_module_version": "1.5.0",
            "_model_name": "HTMLModel",
            "_view_count": null,
            "_view_module": "@jupyter-widgets/controls",
            "_view_module_version": "1.5.0",
            "_view_name": "HTMLView",
            "description": "",
            "description_tooltip": null,
            "layout": "IPY_MODEL_45d21c73831141539f0a092b58bb7ad4",
            "placeholder": "​",
            "style": "IPY_MODEL_f5fef6f4cb9348858b8ba96419049f9c",
            "value": "Computing widget examples:   0%"
          }
        },
        "854fea0baf9748feafd3a13aad022217": {
          "model_module": "@jupyter-widgets/controls",
          "model_name": "FloatProgressModel",
          "model_module_version": "1.5.0",
          "state": {
            "_dom_classes": [],
            "_model_module": "@jupyter-widgets/controls",
            "_model_module_version": "1.5.0",
            "_model_name": "FloatProgressModel",
            "_view_count": null,
            "_view_module": "@jupyter-widgets/controls",
            "_view_module_version": "1.5.0",
            "_view_name": "ProgressView",
            "bar_style": "",
            "description": "",
            "description_tooltip": null,
            "layout": "IPY_MODEL_10a86ff6a4274893a68b9ba21ed711ec",
            "max": 1,
            "min": 0,
            "orientation": "horizontal",
            "style": "IPY_MODEL_76e2aa14bfb14358a6d9893d2a6d638f",
            "value": 1
          }
        },
        "2775dd3aeb014823a265f718a3e1f464": {
          "model_module": "@jupyter-widgets/controls",
          "model_name": "HTMLModel",
          "model_module_version": "1.5.0",
          "state": {
            "_dom_classes": [],
            "_model_module": "@jupyter-widgets/controls",
            "_model_module_version": "1.5.0",
            "_model_name": "HTMLModel",
            "_view_count": null,
            "_view_module": "@jupyter-widgets/controls",
            "_view_module_version": "1.5.0",
            "_view_name": "HTMLView",
            "description": "",
            "description_tooltip": null,
            "layout": "IPY_MODEL_c3badb427f1a4141876ecb8bf45f71a4",
            "placeholder": "​",
            "style": "IPY_MODEL_c4ae2ab3433445c2a93d31ca6974c861",
            "value": " 0/1 [00:00&lt;?, ?example/s]"
          }
        },
        "27b7aca1e6314a05b36f30157e389fa2": {
          "model_module": "@jupyter-widgets/base",
          "model_name": "LayoutModel",
          "model_module_version": "1.2.0",
          "state": {
            "_model_module": "@jupyter-widgets/base",
            "_model_module_version": "1.2.0",
            "_model_name": "LayoutModel",
            "_view_count": null,
            "_view_module": "@jupyter-widgets/base",
            "_view_module_version": "1.2.0",
            "_view_name": "LayoutView",
            "align_content": null,
            "align_items": null,
            "align_self": null,
            "border": null,
            "bottom": null,
            "display": null,
            "flex": null,
            "flex_flow": null,
            "grid_area": null,
            "grid_auto_columns": null,
            "grid_auto_flow": null,
            "grid_auto_rows": null,
            "grid_column": null,
            "grid_gap": null,
            "grid_row": null,
            "grid_template_areas": null,
            "grid_template_columns": null,
            "grid_template_rows": null,
            "height": null,
            "justify_content": null,
            "justify_items": null,
            "left": null,
            "margin": null,
            "max_height": null,
            "max_width": null,
            "min_height": null,
            "min_width": null,
            "object_fit": null,
            "object_position": null,
            "order": null,
            "overflow": null,
            "overflow_x": null,
            "overflow_y": null,
            "padding": null,
            "right": null,
            "top": null,
            "visibility": "hidden",
            "width": null
          }
        },
        "45d21c73831141539f0a092b58bb7ad4": {
          "model_module": "@jupyter-widgets/base",
          "model_name": "LayoutModel",
          "model_module_version": "1.2.0",
          "state": {
            "_model_module": "@jupyter-widgets/base",
            "_model_module_version": "1.2.0",
            "_model_name": "LayoutModel",
            "_view_count": null,
            "_view_module": "@jupyter-widgets/base",
            "_view_module_version": "1.2.0",
            "_view_name": "LayoutView",
            "align_content": null,
            "align_items": null,
            "align_self": null,
            "border": null,
            "bottom": null,
            "display": null,
            "flex": null,
            "flex_flow": null,
            "grid_area": null,
            "grid_auto_columns": null,
            "grid_auto_flow": null,
            "grid_auto_rows": null,
            "grid_column": null,
            "grid_gap": null,
            "grid_row": null,
            "grid_template_areas": null,
            "grid_template_columns": null,
            "grid_template_rows": null,
            "height": null,
            "justify_content": null,
            "justify_items": null,
            "left": null,
            "margin": null,
            "max_height": null,
            "max_width": null,
            "min_height": null,
            "min_width": null,
            "object_fit": null,
            "object_position": null,
            "order": null,
            "overflow": null,
            "overflow_x": null,
            "overflow_y": null,
            "padding": null,
            "right": null,
            "top": null,
            "visibility": null,
            "width": null
          }
        },
        "f5fef6f4cb9348858b8ba96419049f9c": {
          "model_module": "@jupyter-widgets/controls",
          "model_name": "DescriptionStyleModel",
          "model_module_version": "1.5.0",
          "state": {
            "_model_module": "@jupyter-widgets/controls",
            "_model_module_version": "1.5.0",
            "_model_name": "DescriptionStyleModel",
            "_view_count": null,
            "_view_module": "@jupyter-widgets/base",
            "_view_module_version": "1.2.0",
            "_view_name": "StyleView",
            "description_width": ""
          }
        },
        "10a86ff6a4274893a68b9ba21ed711ec": {
          "model_module": "@jupyter-widgets/base",
          "model_name": "LayoutModel",
          "model_module_version": "1.2.0",
          "state": {
            "_model_module": "@jupyter-widgets/base",
            "_model_module_version": "1.2.0",
            "_model_name": "LayoutModel",
            "_view_count": null,
            "_view_module": "@jupyter-widgets/base",
            "_view_module_version": "1.2.0",
            "_view_name": "LayoutView",
            "align_content": null,
            "align_items": null,
            "align_self": null,
            "border": null,
            "bottom": null,
            "display": null,
            "flex": null,
            "flex_flow": null,
            "grid_area": null,
            "grid_auto_columns": null,
            "grid_auto_flow": null,
            "grid_auto_rows": null,
            "grid_column": null,
            "grid_gap": null,
            "grid_row": null,
            "grid_template_areas": null,
            "grid_template_columns": null,
            "grid_template_rows": null,
            "height": null,
            "justify_content": null,
            "justify_items": null,
            "left": null,
            "margin": null,
            "max_height": null,
            "max_width": null,
            "min_height": null,
            "min_width": null,
            "object_fit": null,
            "object_position": null,
            "order": null,
            "overflow": null,
            "overflow_x": null,
            "overflow_y": null,
            "padding": null,
            "right": null,
            "top": null,
            "visibility": null,
            "width": null
          }
        },
        "76e2aa14bfb14358a6d9893d2a6d638f": {
          "model_module": "@jupyter-widgets/controls",
          "model_name": "ProgressStyleModel",
          "model_module_version": "1.5.0",
          "state": {
            "_model_module": "@jupyter-widgets/controls",
            "_model_module_version": "1.5.0",
            "_model_name": "ProgressStyleModel",
            "_view_count": null,
            "_view_module": "@jupyter-widgets/base",
            "_view_module_version": "1.2.0",
            "_view_name": "StyleView",
            "bar_color": null,
            "description_width": ""
          }
        },
        "c3badb427f1a4141876ecb8bf45f71a4": {
          "model_module": "@jupyter-widgets/base",
          "model_name": "LayoutModel",
          "model_module_version": "1.2.0",
          "state": {
            "_model_module": "@jupyter-widgets/base",
            "_model_module_version": "1.2.0",
            "_model_name": "LayoutModel",
            "_view_count": null,
            "_view_module": "@jupyter-widgets/base",
            "_view_module_version": "1.2.0",
            "_view_name": "LayoutView",
            "align_content": null,
            "align_items": null,
            "align_self": null,
            "border": null,
            "bottom": null,
            "display": null,
            "flex": null,
            "flex_flow": null,
            "grid_area": null,
            "grid_auto_columns": null,
            "grid_auto_flow": null,
            "grid_auto_rows": null,
            "grid_column": null,
            "grid_gap": null,
            "grid_row": null,
            "grid_template_areas": null,
            "grid_template_columns": null,
            "grid_template_rows": null,
            "height": null,
            "justify_content": null,
            "justify_items": null,
            "left": null,
            "margin": null,
            "max_height": null,
            "max_width": null,
            "min_height": null,
            "min_width": null,
            "object_fit": null,
            "object_position": null,
            "order": null,
            "overflow": null,
            "overflow_x": null,
            "overflow_y": null,
            "padding": null,
            "right": null,
            "top": null,
            "visibility": null,
            "width": null
          }
        },
        "c4ae2ab3433445c2a93d31ca6974c861": {
          "model_module": "@jupyter-widgets/controls",
          "model_name": "DescriptionStyleModel",
          "model_module_version": "1.5.0",
          "state": {
            "_model_module": "@jupyter-widgets/controls",
            "_model_module_version": "1.5.0",
            "_model_name": "DescriptionStyleModel",
            "_view_count": null,
            "_view_module": "@jupyter-widgets/base",
            "_view_module_version": "1.2.0",
            "_view_name": "StyleView",
            "description_width": ""
          }
        }
      }
    }
  },
  "cells": [
    {
      "cell_type": "markdown",
      "metadata": {
        "id": "view-in-github",
        "colab_type": "text"
      },
      "source": [
        "<a href=\"https://colab.research.google.com/github/mateon01/class2025Spring-mid-term/blob/main/fine_tun_embedding.ipynb\" target=\"_parent\"><img src=\"https://colab.research.google.com/assets/colab-badge.svg\" alt=\"Open In Colab\"/></a>"
      ]
    },
    {
      "cell_type": "markdown",
      "source": [
        "# Embedding Model Fine-tuning\n",
        "\n",
        "This notebook demonstrates how to fine-tune a lightweight embedding model that can run efficiently on M1 Pro chips. We'll use data generated from Amazon Bedrock's Claude 3.5 Sonnet model for training our embedding model."
      ],
      "metadata": {
        "id": "_sFsS3VhmOPh"
      }
    },
    {
      "cell_type": "markdown",
      "source": [
        "## Environment Setup\n",
        "\n",
        "First, let's ensure we have the necessary dependencies installed."
      ],
      "metadata": {
        "id": "tsdHnhvZmTdv"
      }
    },
    {
      "cell_type": "code",
      "source": [
        "import os\n",
        "os.getcwd()"
      ],
      "metadata": {
        "colab": {
          "base_uri": "https://localhost:8080/",
          "height": 35
        },
        "id": "W5vior9LviO9",
        "outputId": "19ab838a-cd68-4c6b-ac77-ba681a9d599d"
      },
      "execution_count": 1,
      "outputs": [
        {
          "output_type": "execute_result",
          "data": {
            "text/plain": [
              "'/content'"
            ],
            "application/vnd.google.colaboratory.intrinsic+json": {
              "type": "string"
            }
          },
          "metadata": {},
          "execution_count": 1
        }
      ]
    },
    {
      "cell_type": "code",
      "source": [
        "# Check Python version\n",
        "import sys\n",
        "print(f\"Python version: {sys.version}\")\n",
        "\n",
        "# Install required packages\n",
        "%pip install -q torch transformers datasets sentence-transformers evaluate scikit-learn pandas numpy matplotlib boto3 accelerate"
      ],
      "metadata": {
        "colab": {
          "base_uri": "https://localhost:8080/"
        },
        "id": "npm0fqpjmKEz",
        "outputId": "41f28968-b04a-4a53-f23c-bcdaa4c4c15e"
      },
      "execution_count": 2,
      "outputs": [
        {
          "output_type": "stream",
          "name": "stdout",
          "text": [
            "Python version: 3.11.12 (main, Apr  9 2025, 08:55:54) [GCC 11.4.0]\n"
          ]
        }
      ]
    },
    {
      "cell_type": "markdown",
      "source": [
        "## Select a Lightweight Embedding Model\n",
        "\n",
        "For M1 Pro compatibility and efficiency, we'll use a lightweight embedding model from the Sentence Transformers library. Good candidates include:\n",
        "\n",
        "1. `all-MiniLM-L6-v2`: A compact model (80MB) that performs well for many tasks\n",
        "2. `paraphrase-MiniLM-L3-v2`: Even smaller (40MB) but still effective\n",
        "3. `all-mpnet-base-v2`: Higher quality but still runs efficiently on M1 Pro\n",
        "\n",
        "We'll use `all-MiniLM-L6-v2` as our base model for fine-tuning."
      ],
      "metadata": {
        "id": "ztoBP4aCmZQF"
      }
    },
    {
      "cell_type": "code",
      "source": [
        "import torch\n",
        "from sentence_transformers import SentenceTransformer, InputExample, losses\n",
        "from torch.utils.data import DataLoader\n",
        "\n",
        "# Check if MPS (Metal Performance Shaders) is available for M1 acceleration\n",
        "print(f\"MPS available: {torch.backends.mps.is_available()}\")\n",
        "device = torch.device(\"mps\" if torch.backends.mps.is_available() else \"cpu\")\n",
        "print(f\"Using device: {device}\")\n",
        "\n",
        "# Load the base model\n",
        "model_name = \"all-MiniLM-L6-v2\"\n",
        "model = SentenceTransformer(model_name)\n",
        "model.to(device)\n",
        "\n",
        "print(f\"Model loaded: {model_name}\")\n",
        "print(f\"Model size: {sum(p.numel() for p in model.parameters())} parameters\")"
      ],
      "metadata": {
        "colab": {
          "base_uri": "https://localhost:8080/"
        },
        "id": "VlqWpMvomZne",
        "outputId": "039aa766-84d5-4b2a-eae2-c07d0e9624bc"
      },
      "execution_count": 3,
      "outputs": [
        {
          "output_type": "stream",
          "name": "stdout",
          "text": [
            "MPS available: False\n",
            "Using device: cpu\n"
          ]
        },
        {
          "output_type": "stream",
          "name": "stderr",
          "text": [
            "/usr/local/lib/python3.11/dist-packages/huggingface_hub/utils/_auth.py:94: UserWarning: \n",
            "The secret `HF_TOKEN` does not exist in your Colab secrets.\n",
            "To authenticate with the Hugging Face Hub, create a token in your settings tab (https://huggingface.co/settings/tokens), set it as secret in your Google Colab and restart your session.\n",
            "You will be able to reuse this secret in all of your notebooks.\n",
            "Please note that authentication is recommended but still optional to access public models or datasets.\n",
            "  warnings.warn(\n"
          ]
        },
        {
          "output_type": "stream",
          "name": "stdout",
          "text": [
            "Model loaded: all-MiniLM-L6-v2\n",
            "Model size: 22713216 parameters\n"
          ]
        }
      ]
    },
    {
      "cell_type": "markdown",
      "source": [
        "## Sample Data Load"
      ],
      "metadata": {
        "id": "LpzoZWV4v76x"
      }
    },
    {
      "cell_type": "code",
      "source": [
        "import os\n",
        "import json\n",
        "import glob\n",
        "import pandas as pd\n",
        "from sklearn.model_selection import train_test_split\n",
        "from torch.utils.data import DataLoader\n",
        "from sentence_transformers import InputExample\n",
        "\n",
        "# data 디렉토리에서 모든 jsonl 파일 찾기\n",
        "jsonl_files = glob.glob('data/*.jsonl')\n",
        "print(f\"찾은 JSONL 파일 목록: {jsonl_files}\")\n",
        "\n",
        "# 문장 쌍 데이터를 담을 리스트\n",
        "all_pairs = []\n",
        "\n",
        "# 각 파일 읽기\n",
        "for file_path in jsonl_files:\n",
        "    file_name = os.path.basename(file_path)\n",
        "\n",
        "    # JSONL 파일 읽기\n",
        "    with open(file_path, 'r', encoding='utf-8') as f:\n",
        "        for line in f:\n",
        "            try:\n",
        "                record = json.loads(line.strip())\n",
        "                if 'sentence1' in record and 'sentence2' in record:\n",
        "                    all_pairs.append(record)\n",
        "            except json.JSONDecodeError as e:\n",
        "                print(f\"파일 {file_name}의 라인 파싱 오류: {e}\")\n",
        "                continue\n",
        "\n",
        "    print(f\"{file_name}에서 {len(all_pairs)}개 문장 쌍 누적 로드됨\")\n",
        "\n",
        "# 리스트를 데이터프레임으로 변환\n",
        "df_all = pd.DataFrame(all_pairs)\n",
        "\n",
        "# 기본 정보 출력\n",
        "print(f\"\\n총 로드된 문장 쌍: {len(df_all)}개\")\n",
        "if len(df_all) > 0:\n",
        "    print(f\"데이터 컬럼: {', '.join(df_all.columns)}\")\n",
        "    print(\"\\n샘플 데이터:\")\n",
        "    print(df_all.head(3))\n",
        "\n",
        "# 훈련 및 검증 세트 분할\n",
        "train_df, val_df = train_test_split(df_all, test_size=0.2, random_state=42)\n",
        "\n",
        "print(f\"\\n훈련 샘플: {len(train_df)}개\")\n",
        "print(f\"검증 샘플: {len(val_df)}개\")\n",
        "\n",
        "# 훈련 예제 생성\n",
        "train_examples = []\n",
        "for _, row in train_df.iterrows():\n",
        "    train_examples.append(InputExample(\n",
        "        texts=[row['sentence1'], row['sentence2']])\n",
        "    )\n",
        "\n",
        "# 검증 예제 생성\n",
        "val_examples = []\n",
        "for _, row in val_df.iterrows():\n",
        "    val_examples.append(InputExample(\n",
        "        texts=[row['sentence1'], row['sentence2']])\n",
        "    )\n",
        "\n",
        "# 데이터 로더 생성\n",
        "train_dataloader = DataLoader(train_examples, shuffle=True, batch_size=16)\n",
        "val_dataloader = DataLoader(val_examples, shuffle=False, batch_size=16)\n",
        "\n",
        "print(f\"\\n훈련 데이터 로더 생성 완료: {len(train_dataloader)} 배치\")\n",
        "print(f\"검증 데이터 로더 생성 완료: {len(val_dataloader)} 배치\")"
      ],
      "metadata": {
        "colab": {
          "base_uri": "https://localhost:8080/"
        },
        "id": "QZD_MY1wvswp",
        "outputId": "b1c1bf11-2ae8-482a-8fc0-e1f20689967c"
      },
      "execution_count": 4,
      "outputs": [
        {
          "output_type": "stream",
          "name": "stdout",
          "text": [
            "찾은 JSONL 파일 목록: ['data/combined_data.jsonl', 'data/external_data.jsonl', 'data/sentence_pairs.jsonl']\n",
            "combined_data.jsonl에서 80개 문장 쌍 누적 로드됨\n",
            "external_data.jsonl에서 110개 문장 쌍 누적 로드됨\n",
            "sentence_pairs.jsonl에서 160개 문장 쌍 누적 로드됨\n",
            "\n",
            "총 로드된 문장 쌍: 160개\n",
            "데이터 컬럼: sentence1, sentence2\n",
            "\n",
            "샘플 데이터:\n",
            "                         sentence1                               sentence2\n",
            "0  머신러닝 모델은 훈련을 위해 대규모 데이터가 필요합니다.  기계학습 알고리즘의 성능 향상을 위해서는 방대한 데이터가 요구됩니다.\n",
            "1   인공지능은 패턴을 인식하여 새로운 데이터를 예측합니다.       기계학습 시스템은 규칙성을 파악해 미지의 정보를 추론합니다.\n",
            "2      딥러닝은 신경망을 통해 복잡한 문제를 해결합니다.          심층학습은 인공신경망 구조로 난해한 과제를 처리합니다.\n",
            "\n",
            "훈련 샘플: 128개\n",
            "검증 샘플: 32개\n",
            "\n",
            "훈련 데이터 로더 생성 완료: 8 배치\n",
            "검증 데이터 로더 생성 완료: 2 배치\n"
          ]
        }
      ]
    },
    {
      "cell_type": "markdown",
      "source": [
        "## Prepare Training Data\n",
        "\n",
        "Now we'll prepare our dataset for fine-tuning the embedding model."
      ],
      "metadata": {
        "id": "9EPrSP0ivy7d"
      }
    },
    {
      "cell_type": "code",
      "source": [
        "from sklearn.model_selection import train_test_split\n",
        "\n",
        "# Split into train and validation sets\n",
        "train_df, val_df = train_test_split(df_all, test_size=0.2, random_state=42)\n",
        "\n",
        "print(f\"Training samples: {len(train_df)}\")\n",
        "print(f\"Validation samples: {len(val_df)}\")\n",
        "\n",
        "# Create training examples\n",
        "train_examples = []\n",
        "for _, row in train_df.iterrows():\n",
        "    train_examples.append(InputExample(\n",
        "        texts=[row['sentence1'], row['sentence2']]))\n",
        "\n",
        "# Create validation examples\n",
        "val_examples = []\n",
        "for _, row in val_df.iterrows():\n",
        "    val_examples.append(InputExample(\n",
        "        texts=[row['sentence1'], row['sentence2']]))\n",
        "\n",
        "# Create data loaders\n",
        "train_dataloader = DataLoader(train_examples, shuffle=True, batch_size=16)\n",
        "val_dataloader = DataLoader(val_examples, shuffle=False, batch_size=16)"
      ],
      "metadata": {
        "colab": {
          "base_uri": "https://localhost:8080/"
        },
        "id": "mcOH1kJ-oR2v",
        "outputId": "e0354422-99b7-45d9-c853-330d97178a93"
      },
      "execution_count": 5,
      "outputs": [
        {
          "output_type": "stream",
          "name": "stdout",
          "text": [
            "Training samples: 128\n",
            "Validation samples: 32\n"
          ]
        }
      ]
    },
    {
      "cell_type": "markdown",
      "source": [
        "## Fine-tune the Embedding Model\n",
        "\n",
        "Now we'll fine-tune our embedding model using the prepared data."
      ],
      "metadata": {
        "id": "A_t_ujvrv1S3"
      }
    },
    {
      "cell_type": "code",
      "source": [
        "from sentence_transformers.evaluation import EmbeddingSimilarityEvaluator\n",
        "\n",
        "# Define the loss function (Multiple Negatives Ranking Loss)\n",
        "train_loss = losses.MultipleNegativesRankingLoss(model)\n",
        "\n",
        "# Create an evaluator\n",
        "evaluator = EmbeddingSimilarityEvaluator.from_input_examples(val_examples)\n",
        "\n",
        "# Set up training parameters\n",
        "num_epochs = 5\n",
        "warmup_steps = int(len(train_dataloader) * 0.1)\n",
        "output_dir = \"./fine-tuned-embedding-model\"\n",
        "\n",
        "# Train the model\n",
        "model.fit(\n",
        "    train_objectives=[(train_dataloader, train_loss)],\n",
        "    evaluator=evaluator,\n",
        "    epochs=num_epochs,\n",
        "    warmup_steps=warmup_steps,\n",
        "    output_path=output_dir,\n",
        "    show_progress_bar=True\n",
        ")"
      ],
      "metadata": {
        "colab": {
          "base_uri": "https://localhost:8080/",
          "height": 750,
          "referenced_widgets": [
            "71957176d3ce4da494ab6993cc792442",
            "30c817c139f64591b4838d97067de2b7",
            "854fea0baf9748feafd3a13aad022217",
            "2775dd3aeb014823a265f718a3e1f464",
            "27b7aca1e6314a05b36f30157e389fa2",
            "45d21c73831141539f0a092b58bb7ad4",
            "f5fef6f4cb9348858b8ba96419049f9c",
            "10a86ff6a4274893a68b9ba21ed711ec",
            "76e2aa14bfb14358a6d9893d2a6d638f",
            "c3badb427f1a4141876ecb8bf45f71a4",
            "c4ae2ab3433445c2a93d31ca6974c861"
          ]
        },
        "id": "DOTz1YYSv34t",
        "outputId": "a785631f-9195-4a20-cf93-c8571a6461fe"
      },
      "execution_count": 6,
      "outputs": [
        {
          "output_type": "display_data",
          "data": {
            "text/plain": [
              "Computing widget examples:   0%|          | 0/1 [00:00<?, ?example/s]"
            ],
            "application/vnd.jupyter.widget-view+json": {
              "version_major": 2,
              "version_minor": 0,
              "model_id": "71957176d3ce4da494ab6993cc792442"
            }
          },
          "metadata": {}
        },
        {
          "output_type": "stream",
          "name": "stderr",
          "text": [
            "\u001b[34m\u001b[1mwandb\u001b[0m: \u001b[33mWARNING\u001b[0m The `run_name` is currently set to the same value as `TrainingArguments.output_dir`. If this was not intended, please specify a different run name by setting the `TrainingArguments.run_name` parameter.\n",
            "\u001b[34m\u001b[1mwandb\u001b[0m: Using wandb-core as the SDK backend.  Please refer to https://wandb.me/wandb-core for more information.\n",
            "\u001b[34m\u001b[1mwandb\u001b[0m: Currently logged in as: \u001b[33mmateon01\u001b[0m (\u001b[33mmateon\u001b[0m) to \u001b[32mhttps://api.wandb.ai\u001b[0m. Use \u001b[1m`wandb login --relogin`\u001b[0m to force relogin\n"
          ]
        },
        {
          "output_type": "display_data",
          "data": {
            "text/plain": [
              "<IPython.core.display.HTML object>"
            ],
            "text/html": [
              "Tracking run with wandb version 0.19.9"
            ]
          },
          "metadata": {}
        },
        {
          "output_type": "display_data",
          "data": {
            "text/plain": [
              "<IPython.core.display.HTML object>"
            ],
            "text/html": [
              "Run data is saved locally in <code>/content/wandb/run-20250421_052830-9etaoyqr</code>"
            ]
          },
          "metadata": {}
        },
        {
          "output_type": "display_data",
          "data": {
            "text/plain": [
              "<IPython.core.display.HTML object>"
            ],
            "text/html": [
              "Syncing run <strong><a href='https://wandb.ai/mateon/sentence-transformers/runs/9etaoyqr' target=\"_blank\">checkpoints/model_1</a></strong> to <a href='https://wandb.ai/mateon/sentence-transformers' target=\"_blank\">Weights & Biases</a> (<a href='https://wandb.me/developer-guide' target=\"_blank\">docs</a>)<br>"
            ]
          },
          "metadata": {}
        },
        {
          "output_type": "display_data",
          "data": {
            "text/plain": [
              "<IPython.core.display.HTML object>"
            ],
            "text/html": [
              " View project at <a href='https://wandb.ai/mateon/sentence-transformers' target=\"_blank\">https://wandb.ai/mateon/sentence-transformers</a>"
            ]
          },
          "metadata": {}
        },
        {
          "output_type": "display_data",
          "data": {
            "text/plain": [
              "<IPython.core.display.HTML object>"
            ],
            "text/html": [
              " View run at <a href='https://wandb.ai/mateon/sentence-transformers/runs/9etaoyqr' target=\"_blank\">https://wandb.ai/mateon/sentence-transformers/runs/9etaoyqr</a>"
            ]
          },
          "metadata": {}
        },
        {
          "output_type": "display_data",
          "data": {
            "text/plain": [
              "<IPython.core.display.HTML object>"
            ],
            "text/html": [
              "\n",
              "    <div>\n",
              "      \n",
              "      <progress value='40' max='40' style='width:300px; height:20px; vertical-align: middle;'></progress>\n",
              "      [40/40 03:05, Epoch 5/5]\n",
              "    </div>\n",
              "    <table border=\"1\" class=\"dataframe\">\n",
              "  <thead>\n",
              " <tr style=\"text-align: left;\">\n",
              "      <th>Step</th>\n",
              "      <th>Training Loss</th>\n",
              "      <th>Validation Loss</th>\n",
              "      <th>Pearson Cosine</th>\n",
              "      <th>Spearman Cosine</th>\n",
              "    </tr>\n",
              "  </thead>\n",
              "  <tbody>\n",
              "    <tr>\n",
              "      <td>8</td>\n",
              "      <td>No log</td>\n",
              "      <td>No log</td>\n",
              "      <td>nan</td>\n",
              "      <td>nan</td>\n",
              "    </tr>\n",
              "    <tr>\n",
              "      <td>16</td>\n",
              "      <td>No log</td>\n",
              "      <td>No log</td>\n",
              "      <td>nan</td>\n",
              "      <td>nan</td>\n",
              "    </tr>\n",
              "    <tr>\n",
              "      <td>24</td>\n",
              "      <td>No log</td>\n",
              "      <td>No log</td>\n",
              "      <td>nan</td>\n",
              "      <td>nan</td>\n",
              "    </tr>\n",
              "    <tr>\n",
              "      <td>32</td>\n",
              "      <td>No log</td>\n",
              "      <td>No log</td>\n",
              "      <td>nan</td>\n",
              "      <td>nan</td>\n",
              "    </tr>\n",
              "    <tr>\n",
              "      <td>40</td>\n",
              "      <td>No log</td>\n",
              "      <td>No log</td>\n",
              "      <td>nan</td>\n",
              "      <td>nan</td>\n",
              "    </tr>\n",
              "  </tbody>\n",
              "</table><p>"
            ]
          },
          "metadata": {}
        },
        {
          "output_type": "stream",
          "name": "stderr",
          "text": [
            "/usr/local/lib/python3.11/dist-packages/sentence_transformers/evaluation/EmbeddingSimilarityEvaluator.py:206: ConstantInputWarning: An input array is constant; the correlation coefficient is not defined.\n",
            "  eval_pearson, _ = pearsonr(labels, scores)\n",
            "/usr/local/lib/python3.11/dist-packages/sentence_transformers/evaluation/EmbeddingSimilarityEvaluator.py:207: ConstantInputWarning: An input array is constant; the correlation coefficient is not defined.\n",
            "  eval_spearman, _ = spearmanr(labels, scores)\n",
            "/usr/local/lib/python3.11/dist-packages/sentence_transformers/evaluation/EmbeddingSimilarityEvaluator.py:206: ConstantInputWarning: An input array is constant; the correlation coefficient is not defined.\n",
            "  eval_pearson, _ = pearsonr(labels, scores)\n",
            "/usr/local/lib/python3.11/dist-packages/sentence_transformers/evaluation/EmbeddingSimilarityEvaluator.py:207: ConstantInputWarning: An input array is constant; the correlation coefficient is not defined.\n",
            "  eval_spearman, _ = spearmanr(labels, scores)\n",
            "/usr/local/lib/python3.11/dist-packages/sentence_transformers/evaluation/EmbeddingSimilarityEvaluator.py:206: ConstantInputWarning: An input array is constant; the correlation coefficient is not defined.\n",
            "  eval_pearson, _ = pearsonr(labels, scores)\n",
            "/usr/local/lib/python3.11/dist-packages/sentence_transformers/evaluation/EmbeddingSimilarityEvaluator.py:207: ConstantInputWarning: An input array is constant; the correlation coefficient is not defined.\n",
            "  eval_spearman, _ = spearmanr(labels, scores)\n",
            "/usr/local/lib/python3.11/dist-packages/sentence_transformers/evaluation/EmbeddingSimilarityEvaluator.py:206: ConstantInputWarning: An input array is constant; the correlation coefficient is not defined.\n",
            "  eval_pearson, _ = pearsonr(labels, scores)\n",
            "/usr/local/lib/python3.11/dist-packages/sentence_transformers/evaluation/EmbeddingSimilarityEvaluator.py:207: ConstantInputWarning: An input array is constant; the correlation coefficient is not defined.\n",
            "  eval_spearman, _ = spearmanr(labels, scores)\n",
            "/usr/local/lib/python3.11/dist-packages/sentence_transformers/evaluation/EmbeddingSimilarityEvaluator.py:206: ConstantInputWarning: An input array is constant; the correlation coefficient is not defined.\n",
            "  eval_pearson, _ = pearsonr(labels, scores)\n",
            "/usr/local/lib/python3.11/dist-packages/sentence_transformers/evaluation/EmbeddingSimilarityEvaluator.py:207: ConstantInputWarning: An input array is constant; the correlation coefficient is not defined.\n",
            "  eval_spearman, _ = spearmanr(labels, scores)\n"
          ]
        }
      ]
    },
    {
      "cell_type": "markdown",
      "source": [
        "## Evaluate the Fine-tuned Model\n",
        "\n",
        "Let's evaluate our fine-tuned model on some test examples and then on the MTEB STS17 benchmark dataset."
      ],
      "metadata": {
        "id": "ta1zwwufwMQA"
      }
    },
    {
      "cell_type": "code",
      "source": [
        "import numpy as np\n",
        "import torch\n",
        "import pandas as pd\n",
        "import matplotlib.pyplot as plt\n",
        "from sentence_transformers import SentenceTransformer\n",
        "\n",
        "# 모델 이름 정의 (이전 셀에서 정의되었을 것으로 추정)\n",
        "# 만약 정의되지 않았다면, 원래 기본 모델 이름을 여기에 작성하세요\n",
        "model_name = \"all-MiniLM-L6-v2\"  # 예시 모델명 (실제 사용한 모델명으로 교체 필요)\n",
        "\n",
        "# 모델 저장 경로 지정 (이전 셀에서 정의된 변수일 수 있음)\n",
        "# 모델이 저장된 실제 경로를 지정해야 합니다 (data 폴더가 아님)\n",
        "# 예시 경로 (실제 모델 저장 경로로 교체 필요)\n",
        "output_dir = \"fine-tuned-embedding-model\"\n",
        "\n",
        "# 사용 가능한 디바이스 확인\n",
        "device = torch.device(\"mps\" if torch.backends.mps.is_available() else\n",
        "                      (\"cuda\" if torch.cuda.is_available() else \"cpu\"))\n",
        "print(f\"Using device: {device}\")\n",
        "\n",
        "# 기본 모델 로드\n",
        "base_model = SentenceTransformer(model_name)\n",
        "base_model.to(device)\n",
        "print(f\"Base model loaded: {model_name}\")\n",
        "\n",
        "# 미세 조정된 모델을 직접 로드하려면 경로 확인이 필요합니다\n",
        "try:\n",
        "    # 1. 먼저 output_dir 경로를 사용하여 로드 시도\n",
        "    fine_tuned_model = SentenceTransformer(output_dir)\n",
        "    print(f\"Fine-tuned model loaded from: {output_dir}\")\n",
        "except ValueError as e:\n",
        "    print(f\"Error loading from {output_dir}: {e}\")\n",
        "\n",
        "    # 2. 대체 방법: output_dir 아래의 디렉토리 확인\n",
        "    import os\n",
        "    import glob\n",
        "\n",
        "    possible_model_dirs = glob.glob(f\"{output_dir}/**/\")\n",
        "    if possible_model_dirs:\n",
        "        for model_dir in possible_model_dirs:\n",
        "            try:\n",
        "                fine_tuned_model = SentenceTransformer(model_dir.rstrip('/'))\n",
        "                print(f\"Fine-tuned model loaded from: {model_dir}\")\n",
        "                break\n",
        "            except ValueError:\n",
        "                continue\n",
        "\n",
        "    # 3. 여전히 실패하면 epoch 번호가 있는 폴더 시도\n",
        "    if 'fine_tuned_model' not in locals():\n",
        "        epoch_dirs = glob.glob(f\"{output_dir}/*-*/\")\n",
        "        if epoch_dirs:\n",
        "            latest_dir = sorted(epoch_dirs)[-1]  # 가장 마지막 epoch 디렉토리\n",
        "            try:\n",
        "                fine_tuned_model = SentenceTransformer(latest_dir.rstrip('/'))\n",
        "                print(\n",
        "                    f\"Fine-tuned model loaded from latest epoch: {latest_dir}\")\n",
        "            except ValueError as e:\n",
        "                print(f\"Error loading from {latest_dir}: {e}\")\n",
        "                # 4. 모든 시도 실패 시 예비책: 기본 모델을 미세 조정 모델로 사용\n",
        "                print(\n",
        "                    \"WARNING: Could not load fine-tuned model. Using base model as fallback.\")\n",
        "                fine_tuned_model = base_model\n",
        "\n",
        "# 모델을 디바이스로 이동\n",
        "fine_tuned_model.to(device)\n",
        "\n",
        "# 테스트 문장 쌍 생성\n",
        "test_pairs = [\n",
        "    (\"임베딩 모델은 텍스트를 수치 벡터로 변환합니다\",\n",
        "     \"텍스트 임베딩은 문장을 벡터 표현으로 변환합니다\"),\n",
        "    (\"파인 튜닝은 특정 작업에서 모델 성능을 향상시킵니다\",\n",
        "     \"작업 특화 훈련은 모델 정확도를 높입니다\"),\n",
        "    (\"클라우드 컴퓨팅은 확장 가능한 리소스를 제공합니다\",\n",
        "     \"클라우드 서비스는 확장 가능한 인프라를 제공합니다\"),\n",
        "    (\"파이썬은 인기 있는 프로그래밍 언어입니다\",\n",
        "     \"머신러닝 모델은 대규모 데이터가 필요합니다\")\n",
        "]\n",
        "\n",
        "# 기본 모델과 미세 조정 모델 비교\n",
        "results = []\n",
        "\n",
        "for sent1, sent2 in test_pairs:\n",
        "    # 기본 모델에서 임베딩 얻기\n",
        "    base_emb1 = base_model.encode(sent1, convert_to_tensor=True)\n",
        "    base_emb2 = base_model.encode(sent2, convert_to_tensor=True)\n",
        "    base_sim = torch.cosine_similarity(base_emb1, base_emb2, dim=0).item()\n",
        "\n",
        "    # 미세 조정 모델에서 임베딩 얻기\n",
        "    ft_emb1 = fine_tuned_model.encode(sent1, convert_to_tensor=True)\n",
        "    ft_emb2 = fine_tuned_model.encode(sent2, convert_to_tensor=True)\n",
        "    ft_sim = torch.cosine_similarity(ft_emb1, ft_emb2, dim=0).item()\n",
        "\n",
        "    results.append({\n",
        "        \"sentence1\": sent1,\n",
        "        \"sentence2\": sent2,\n",
        "        \"base_similarity\": base_sim,\n",
        "        \"fine_tuned_similarity\": ft_sim\n",
        "    })\n",
        "\n",
        "# 결과 표시\n",
        "results_df = pd.DataFrame(results)\n",
        "results_df"
      ],
      "metadata": {
        "colab": {
          "base_uri": "https://localhost:8080/",
          "height": 228
        },
        "id": "w8VzFX0cwNDd",
        "outputId": "2de346f4-cfae-4d13-af95-f86ca901659a"
      },
      "execution_count": 7,
      "outputs": [
        {
          "output_type": "stream",
          "name": "stdout",
          "text": [
            "Using device: cpu\n",
            "Base model loaded: all-MiniLM-L6-v2\n",
            "Fine-tuned model loaded from: fine-tuned-embedding-model\n"
          ]
        },
        {
          "output_type": "execute_result",
          "data": {
            "text/plain": [
              "                      sentence1                    sentence2  base_similarity  \\\n",
              "0     임베딩 모델은 텍스트를 수치 벡터로 변환합니다   텍스트 임베딩은 문장을 벡터 표현으로 변환합니다         0.959632   \n",
              "1  파인 튜닝은 특정 작업에서 모델 성능을 향상시킵니다       작업 특화 훈련은 모델 정확도를 높입니다         0.767626   \n",
              "2   클라우드 컴퓨팅은 확장 가능한 리소스를 제공합니다  클라우드 서비스는 확장 가능한 인프라를 제공합니다         0.935242   \n",
              "3        파이썬은 인기 있는 프로그래밍 언어입니다      머신러닝 모델은 대규모 데이터가 필요합니다         0.858367   \n",
              "\n",
              "   fine_tuned_similarity  \n",
              "0               0.923347  \n",
              "1               0.713404  \n",
              "2               0.955893  \n",
              "3               0.741646  "
            ],
            "text/html": [
              "\n",
              "  <div id=\"df-94b997e6-35ea-4d14-bc6a-e95047ac3c19\" class=\"colab-df-container\">\n",
              "    <div>\n",
              "<style scoped>\n",
              "    .dataframe tbody tr th:only-of-type {\n",
              "        vertical-align: middle;\n",
              "    }\n",
              "\n",
              "    .dataframe tbody tr th {\n",
              "        vertical-align: top;\n",
              "    }\n",
              "\n",
              "    .dataframe thead th {\n",
              "        text-align: right;\n",
              "    }\n",
              "</style>\n",
              "<table border=\"1\" class=\"dataframe\">\n",
              "  <thead>\n",
              "    <tr style=\"text-align: right;\">\n",
              "      <th></th>\n",
              "      <th>sentence1</th>\n",
              "      <th>sentence2</th>\n",
              "      <th>base_similarity</th>\n",
              "      <th>fine_tuned_similarity</th>\n",
              "    </tr>\n",
              "  </thead>\n",
              "  <tbody>\n",
              "    <tr>\n",
              "      <th>0</th>\n",
              "      <td>임베딩 모델은 텍스트를 수치 벡터로 변환합니다</td>\n",
              "      <td>텍스트 임베딩은 문장을 벡터 표현으로 변환합니다</td>\n",
              "      <td>0.959632</td>\n",
              "      <td>0.923347</td>\n",
              "    </tr>\n",
              "    <tr>\n",
              "      <th>1</th>\n",
              "      <td>파인 튜닝은 특정 작업에서 모델 성능을 향상시킵니다</td>\n",
              "      <td>작업 특화 훈련은 모델 정확도를 높입니다</td>\n",
              "      <td>0.767626</td>\n",
              "      <td>0.713404</td>\n",
              "    </tr>\n",
              "    <tr>\n",
              "      <th>2</th>\n",
              "      <td>클라우드 컴퓨팅은 확장 가능한 리소스를 제공합니다</td>\n",
              "      <td>클라우드 서비스는 확장 가능한 인프라를 제공합니다</td>\n",
              "      <td>0.935242</td>\n",
              "      <td>0.955893</td>\n",
              "    </tr>\n",
              "    <tr>\n",
              "      <th>3</th>\n",
              "      <td>파이썬은 인기 있는 프로그래밍 언어입니다</td>\n",
              "      <td>머신러닝 모델은 대규모 데이터가 필요합니다</td>\n",
              "      <td>0.858367</td>\n",
              "      <td>0.741646</td>\n",
              "    </tr>\n",
              "  </tbody>\n",
              "</table>\n",
              "</div>\n",
              "    <div class=\"colab-df-buttons\">\n",
              "\n",
              "  <div class=\"colab-df-container\">\n",
              "    <button class=\"colab-df-convert\" onclick=\"convertToInteractive('df-94b997e6-35ea-4d14-bc6a-e95047ac3c19')\"\n",
              "            title=\"Convert this dataframe to an interactive table.\"\n",
              "            style=\"display:none;\">\n",
              "\n",
              "  <svg xmlns=\"http://www.w3.org/2000/svg\" height=\"24px\" viewBox=\"0 -960 960 960\">\n",
              "    <path d=\"M120-120v-720h720v720H120Zm60-500h600v-160H180v160Zm220 220h160v-160H400v160Zm0 220h160v-160H400v160ZM180-400h160v-160H180v160Zm440 0h160v-160H620v160ZM180-180h160v-160H180v160Zm440 0h160v-160H620v160Z\"/>\n",
              "  </svg>\n",
              "    </button>\n",
              "\n",
              "  <style>\n",
              "    .colab-df-container {\n",
              "      display:flex;\n",
              "      gap: 12px;\n",
              "    }\n",
              "\n",
              "    .colab-df-convert {\n",
              "      background-color: #E8F0FE;\n",
              "      border: none;\n",
              "      border-radius: 50%;\n",
              "      cursor: pointer;\n",
              "      display: none;\n",
              "      fill: #1967D2;\n",
              "      height: 32px;\n",
              "      padding: 0 0 0 0;\n",
              "      width: 32px;\n",
              "    }\n",
              "\n",
              "    .colab-df-convert:hover {\n",
              "      background-color: #E2EBFA;\n",
              "      box-shadow: 0px 1px 2px rgba(60, 64, 67, 0.3), 0px 1px 3px 1px rgba(60, 64, 67, 0.15);\n",
              "      fill: #174EA6;\n",
              "    }\n",
              "\n",
              "    .colab-df-buttons div {\n",
              "      margin-bottom: 4px;\n",
              "    }\n",
              "\n",
              "    [theme=dark] .colab-df-convert {\n",
              "      background-color: #3B4455;\n",
              "      fill: #D2E3FC;\n",
              "    }\n",
              "\n",
              "    [theme=dark] .colab-df-convert:hover {\n",
              "      background-color: #434B5C;\n",
              "      box-shadow: 0px 1px 3px 1px rgba(0, 0, 0, 0.15);\n",
              "      filter: drop-shadow(0px 1px 2px rgba(0, 0, 0, 0.3));\n",
              "      fill: #FFFFFF;\n",
              "    }\n",
              "  </style>\n",
              "\n",
              "    <script>\n",
              "      const buttonEl =\n",
              "        document.querySelector('#df-94b997e6-35ea-4d14-bc6a-e95047ac3c19 button.colab-df-convert');\n",
              "      buttonEl.style.display =\n",
              "        google.colab.kernel.accessAllowed ? 'block' : 'none';\n",
              "\n",
              "      async function convertToInteractive(key) {\n",
              "        const element = document.querySelector('#df-94b997e6-35ea-4d14-bc6a-e95047ac3c19');\n",
              "        const dataTable =\n",
              "          await google.colab.kernel.invokeFunction('convertToInteractive',\n",
              "                                                    [key], {});\n",
              "        if (!dataTable) return;\n",
              "\n",
              "        const docLinkHtml = 'Like what you see? Visit the ' +\n",
              "          '<a target=\"_blank\" href=https://colab.research.google.com/notebooks/data_table.ipynb>data table notebook</a>'\n",
              "          + ' to learn more about interactive tables.';\n",
              "        element.innerHTML = '';\n",
              "        dataTable['output_type'] = 'display_data';\n",
              "        await google.colab.output.renderOutput(dataTable, element);\n",
              "        const docLink = document.createElement('div');\n",
              "        docLink.innerHTML = docLinkHtml;\n",
              "        element.appendChild(docLink);\n",
              "      }\n",
              "    </script>\n",
              "  </div>\n",
              "\n",
              "\n",
              "<div id=\"df-79f60a06-a330-497c-aef0-2546758c5c08\">\n",
              "  <button class=\"colab-df-quickchart\" onclick=\"quickchart('df-79f60a06-a330-497c-aef0-2546758c5c08')\"\n",
              "            title=\"Suggest charts\"\n",
              "            style=\"display:none;\">\n",
              "\n",
              "<svg xmlns=\"http://www.w3.org/2000/svg\" height=\"24px\"viewBox=\"0 0 24 24\"\n",
              "     width=\"24px\">\n",
              "    <g>\n",
              "        <path d=\"M19 3H5c-1.1 0-2 .9-2 2v14c0 1.1.9 2 2 2h14c1.1 0 2-.9 2-2V5c0-1.1-.9-2-2-2zM9 17H7v-7h2v7zm4 0h-2V7h2v10zm4 0h-2v-4h2v4z\"/>\n",
              "    </g>\n",
              "</svg>\n",
              "  </button>\n",
              "\n",
              "<style>\n",
              "  .colab-df-quickchart {\n",
              "      --bg-color: #E8F0FE;\n",
              "      --fill-color: #1967D2;\n",
              "      --hover-bg-color: #E2EBFA;\n",
              "      --hover-fill-color: #174EA6;\n",
              "      --disabled-fill-color: #AAA;\n",
              "      --disabled-bg-color: #DDD;\n",
              "  }\n",
              "\n",
              "  [theme=dark] .colab-df-quickchart {\n",
              "      --bg-color: #3B4455;\n",
              "      --fill-color: #D2E3FC;\n",
              "      --hover-bg-color: #434B5C;\n",
              "      --hover-fill-color: #FFFFFF;\n",
              "      --disabled-bg-color: #3B4455;\n",
              "      --disabled-fill-color: #666;\n",
              "  }\n",
              "\n",
              "  .colab-df-quickchart {\n",
              "    background-color: var(--bg-color);\n",
              "    border: none;\n",
              "    border-radius: 50%;\n",
              "    cursor: pointer;\n",
              "    display: none;\n",
              "    fill: var(--fill-color);\n",
              "    height: 32px;\n",
              "    padding: 0;\n",
              "    width: 32px;\n",
              "  }\n",
              "\n",
              "  .colab-df-quickchart:hover {\n",
              "    background-color: var(--hover-bg-color);\n",
              "    box-shadow: 0 1px 2px rgba(60, 64, 67, 0.3), 0 1px 3px 1px rgba(60, 64, 67, 0.15);\n",
              "    fill: var(--button-hover-fill-color);\n",
              "  }\n",
              "\n",
              "  .colab-df-quickchart-complete:disabled,\n",
              "  .colab-df-quickchart-complete:disabled:hover {\n",
              "    background-color: var(--disabled-bg-color);\n",
              "    fill: var(--disabled-fill-color);\n",
              "    box-shadow: none;\n",
              "  }\n",
              "\n",
              "  .colab-df-spinner {\n",
              "    border: 2px solid var(--fill-color);\n",
              "    border-color: transparent;\n",
              "    border-bottom-color: var(--fill-color);\n",
              "    animation:\n",
              "      spin 1s steps(1) infinite;\n",
              "  }\n",
              "\n",
              "  @keyframes spin {\n",
              "    0% {\n",
              "      border-color: transparent;\n",
              "      border-bottom-color: var(--fill-color);\n",
              "      border-left-color: var(--fill-color);\n",
              "    }\n",
              "    20% {\n",
              "      border-color: transparent;\n",
              "      border-left-color: var(--fill-color);\n",
              "      border-top-color: var(--fill-color);\n",
              "    }\n",
              "    30% {\n",
              "      border-color: transparent;\n",
              "      border-left-color: var(--fill-color);\n",
              "      border-top-color: var(--fill-color);\n",
              "      border-right-color: var(--fill-color);\n",
              "    }\n",
              "    40% {\n",
              "      border-color: transparent;\n",
              "      border-right-color: var(--fill-color);\n",
              "      border-top-color: var(--fill-color);\n",
              "    }\n",
              "    60% {\n",
              "      border-color: transparent;\n",
              "      border-right-color: var(--fill-color);\n",
              "    }\n",
              "    80% {\n",
              "      border-color: transparent;\n",
              "      border-right-color: var(--fill-color);\n",
              "      border-bottom-color: var(--fill-color);\n",
              "    }\n",
              "    90% {\n",
              "      border-color: transparent;\n",
              "      border-bottom-color: var(--fill-color);\n",
              "    }\n",
              "  }\n",
              "</style>\n",
              "\n",
              "  <script>\n",
              "    async function quickchart(key) {\n",
              "      const quickchartButtonEl =\n",
              "        document.querySelector('#' + key + ' button');\n",
              "      quickchartButtonEl.disabled = true;  // To prevent multiple clicks.\n",
              "      quickchartButtonEl.classList.add('colab-df-spinner');\n",
              "      try {\n",
              "        const charts = await google.colab.kernel.invokeFunction(\n",
              "            'suggestCharts', [key], {});\n",
              "      } catch (error) {\n",
              "        console.error('Error during call to suggestCharts:', error);\n",
              "      }\n",
              "      quickchartButtonEl.classList.remove('colab-df-spinner');\n",
              "      quickchartButtonEl.classList.add('colab-df-quickchart-complete');\n",
              "    }\n",
              "    (() => {\n",
              "      let quickchartButtonEl =\n",
              "        document.querySelector('#df-79f60a06-a330-497c-aef0-2546758c5c08 button');\n",
              "      quickchartButtonEl.style.display =\n",
              "        google.colab.kernel.accessAllowed ? 'block' : 'none';\n",
              "    })();\n",
              "  </script>\n",
              "</div>\n",
              "\n",
              "  <div id=\"id_5fea3005-f0d0-4ad6-9157-adf18beb38b8\">\n",
              "    <style>\n",
              "      .colab-df-generate {\n",
              "        background-color: #E8F0FE;\n",
              "        border: none;\n",
              "        border-radius: 50%;\n",
              "        cursor: pointer;\n",
              "        display: none;\n",
              "        fill: #1967D2;\n",
              "        height: 32px;\n",
              "        padding: 0 0 0 0;\n",
              "        width: 32px;\n",
              "      }\n",
              "\n",
              "      .colab-df-generate:hover {\n",
              "        background-color: #E2EBFA;\n",
              "        box-shadow: 0px 1px 2px rgba(60, 64, 67, 0.3), 0px 1px 3px 1px rgba(60, 64, 67, 0.15);\n",
              "        fill: #174EA6;\n",
              "      }\n",
              "\n",
              "      [theme=dark] .colab-df-generate {\n",
              "        background-color: #3B4455;\n",
              "        fill: #D2E3FC;\n",
              "      }\n",
              "\n",
              "      [theme=dark] .colab-df-generate:hover {\n",
              "        background-color: #434B5C;\n",
              "        box-shadow: 0px 1px 3px 1px rgba(0, 0, 0, 0.15);\n",
              "        filter: drop-shadow(0px 1px 2px rgba(0, 0, 0, 0.3));\n",
              "        fill: #FFFFFF;\n",
              "      }\n",
              "    </style>\n",
              "    <button class=\"colab-df-generate\" onclick=\"generateWithVariable('results_df')\"\n",
              "            title=\"Generate code using this dataframe.\"\n",
              "            style=\"display:none;\">\n",
              "\n",
              "  <svg xmlns=\"http://www.w3.org/2000/svg\" height=\"24px\"viewBox=\"0 0 24 24\"\n",
              "       width=\"24px\">\n",
              "    <path d=\"M7,19H8.4L18.45,9,17,7.55,7,17.6ZM5,21V16.75L18.45,3.32a2,2,0,0,1,2.83,0l1.4,1.43a1.91,1.91,0,0,1,.58,1.4,1.91,1.91,0,0,1-.58,1.4L9.25,21ZM18.45,9,17,7.55Zm-12,3A5.31,5.31,0,0,0,4.9,8.1,5.31,5.31,0,0,0,1,6.5,5.31,5.31,0,0,0,4.9,4.9,5.31,5.31,0,0,0,6.5,1,5.31,5.31,0,0,0,8.1,4.9,5.31,5.31,0,0,0,12,6.5,5.46,5.46,0,0,0,6.5,12Z\"/>\n",
              "  </svg>\n",
              "    </button>\n",
              "    <script>\n",
              "      (() => {\n",
              "      const buttonEl =\n",
              "        document.querySelector('#id_5fea3005-f0d0-4ad6-9157-adf18beb38b8 button.colab-df-generate');\n",
              "      buttonEl.style.display =\n",
              "        google.colab.kernel.accessAllowed ? 'block' : 'none';\n",
              "\n",
              "      buttonEl.onclick = () => {\n",
              "        google.colab.notebook.generateWithVariable('results_df');\n",
              "      }\n",
              "      })();\n",
              "    </script>\n",
              "  </div>\n",
              "\n",
              "    </div>\n",
              "  </div>\n"
            ],
            "application/vnd.google.colaboratory.intrinsic+json": {
              "type": "dataframe",
              "variable_name": "results_df",
              "summary": "{\n  \"name\": \"results_df\",\n  \"rows\": 4,\n  \"fields\": [\n    {\n      \"column\": \"sentence1\",\n      \"properties\": {\n        \"dtype\": \"string\",\n        \"num_unique_values\": 4,\n        \"samples\": [\n          \"\\ud30c\\uc778 \\ud29c\\ub2dd\\uc740 \\ud2b9\\uc815 \\uc791\\uc5c5\\uc5d0\\uc11c \\ubaa8\\ub378 \\uc131\\ub2a5\\uc744 \\ud5a5\\uc0c1\\uc2dc\\ud0b5\\ub2c8\\ub2e4\",\n          \"\\ud30c\\uc774\\uc36c\\uc740 \\uc778\\uae30 \\uc788\\ub294 \\ud504\\ub85c\\uadf8\\ub798\\ubc0d \\uc5b8\\uc5b4\\uc785\\ub2c8\\ub2e4\",\n          \"\\uc784\\ubca0\\ub529 \\ubaa8\\ub378\\uc740 \\ud14d\\uc2a4\\ud2b8\\ub97c \\uc218\\uce58 \\ubca1\\ud130\\ub85c \\ubcc0\\ud658\\ud569\\ub2c8\\ub2e4\"\n        ],\n        \"semantic_type\": \"\",\n        \"description\": \"\"\n      }\n    },\n    {\n      \"column\": \"sentence2\",\n      \"properties\": {\n        \"dtype\": \"string\",\n        \"num_unique_values\": 4,\n        \"samples\": [\n          \"\\uc791\\uc5c5 \\ud2b9\\ud654 \\ud6c8\\ub828\\uc740 \\ubaa8\\ub378 \\uc815\\ud655\\ub3c4\\ub97c \\ub192\\uc785\\ub2c8\\ub2e4\",\n          \"\\uba38\\uc2e0\\ub7ec\\ub2dd \\ubaa8\\ub378\\uc740 \\ub300\\uaddc\\ubaa8 \\ub370\\uc774\\ud130\\uac00 \\ud544\\uc694\\ud569\\ub2c8\\ub2e4\",\n          \"\\ud14d\\uc2a4\\ud2b8 \\uc784\\ubca0\\ub529\\uc740 \\ubb38\\uc7a5\\uc744 \\ubca1\\ud130 \\ud45c\\ud604\\uc73c\\ub85c \\ubcc0\\ud658\\ud569\\ub2c8\\ub2e4\"\n        ],\n        \"semantic_type\": \"\",\n        \"description\": \"\"\n      }\n    },\n    {\n      \"column\": \"base_similarity\",\n      \"properties\": {\n        \"dtype\": \"number\",\n        \"std\": 0.08658084530792141,\n        \"min\": 0.7676255702972412,\n        \"max\": 0.9596318602561951,\n        \"num_unique_values\": 4,\n        \"samples\": [\n          0.7676255702972412,\n          0.8583670258522034,\n          0.9596318602561951\n        ],\n        \"semantic_type\": \"\",\n        \"description\": \"\"\n      }\n    },\n    {\n      \"column\": \"fine_tuned_similarity\",\n      \"properties\": {\n        \"dtype\": \"number\",\n        \"std\": 0.1237101744844795,\n        \"min\": 0.7134044766426086,\n        \"max\": 0.9558930397033691,\n        \"num_unique_values\": 4,\n        \"samples\": [\n          0.7134044766426086,\n          0.7416460514068604,\n          0.9233471155166626\n        ],\n        \"semantic_type\": \"\",\n        \"description\": \"\"\n      }\n    }\n  ]\n}"
            }
          },
          "metadata": {},
          "execution_count": 7
        }
      ]
    },
    {
      "cell_type": "code",
      "source": [
        "# Visualize the comparison\n",
        "plt.figure(figsize=(10, 6))\n",
        "x = np.arange(len(results))\n",
        "width = 0.35\n",
        "\n",
        "plt.bar(x - width/2, results_df['base_similarity'], width, label='Base Model')\n",
        "plt.bar(x + width/2,\n",
        "        results_df['fine_tuned_similarity'], width, label='Fine-tuned Model')\n",
        "\n",
        "plt.xlabel('Sentence Pairs')\n",
        "plt.ylabel('Cosine Similarity')\n",
        "plt.title('Comparison of Base vs Fine-tuned Embedding Model')\n",
        "plt.xticks(x, [f\"Pair {i+1}\" for i in range(len(results))])\n",
        "plt.ylim(0, 1)\n",
        "plt.legend()\n",
        "plt.tight_layout()\n",
        "plt.show()"
      ],
      "metadata": {
        "colab": {
          "base_uri": "https://localhost:8080/",
          "height": 607
        },
        "id": "XXSkxt1NxwA7",
        "outputId": "4a7c3b36-30b6-4b63-8298-ec819b9acd85"
      },
      "execution_count": 8,
      "outputs": [
        {
          "output_type": "display_data",
          "data": {
            "text/plain": [
              "<Figure size 1000x600 with 1 Axes>"
            ],
            "image/png": "[encoded data removed]"
          },
          "metadata": {}
        }
      ]
    }
  ]
}